{
  "nbformat": 4,
  "nbformat_minor": 0,
  "metadata": {
    "colab": {
      "name": "CMPT210_Assignment2_12.ipynb",
      "provenance": [],
      "collapsed_sections": []
    },
    "kernelspec": {
      "name": "python3",
      "display_name": "Python 3"
    },
    "language_info": {
      "name": "python"
    }
  },
  "cells": [
    {
      "cell_type": "markdown",
      "source": [
        "# Code for Question 12"
      ],
      "metadata": {
        "id": "_3lamjjXunjM"
      }
    },
    {
      "cell_type": "markdown",
      "source": [
        "## Libraries used"
      ],
      "metadata": {
        "id": "C67ISeuJdQdR"
      }
    },
    {
      "cell_type": "code",
      "source": [
        "import random\n",
        "import numpy"
      ],
      "metadata": {
        "id": "i3TtLpJrdR7l"
      },
      "execution_count": 7,
      "outputs": []
    },
    {
      "cell_type": "markdown",
      "source": [
        "## Basic Frievald’s Function"
      ],
      "metadata": {
        "id": "KLY4qcox-UHm"
      }
    },
    {
      "cell_type": "code",
      "source": [
        "def basic_frievald(A, B, C):\n",
        "  N = 3\n",
        "\n",
        "  # First Part\n",
        "  x = []\n",
        "\n",
        "  for i in range(N):\n",
        "    x.append(random.choice([0,1]))\n",
        "\n",
        "  # Second Part\n",
        "  t = numpy.matmul(B,x)\n",
        "  t = t % 2\n",
        "\n",
        "  y = numpy.matmul(A,t)\n",
        "  y = y % 2\n",
        "\n",
        "  z = numpy.matmul(D,x)\n",
        "  z = z % 2\n",
        "\n",
        "  # Third Part\n",
        "  if y.all() == z.all():\n",
        "    return \"Yes\"\n",
        "  else:\n",
        "    return \"No\""
      ],
      "metadata": {
        "id": "9R2vvjzT-S-E"
      },
      "execution_count": 23,
      "outputs": []
    },
    {
      "cell_type": "markdown",
      "source": [
        "## Testing"
      ],
      "metadata": {
        "id": "aeFcmxWq-RM3"
      }
    },
    {
      "cell_type": "code",
      "execution_count": 31,
      "metadata": {
        "colab": {
          "base_uri": "https://localhost:8080/"
        },
        "id": "X8K4PVJ4ugim",
        "outputId": "586f0b63-c768-4036-f47c-073646970c47"
      },
      "outputs": [
        {
          "output_type": "stream",
          "name": "stdout",
          "text": [
            "Trial #1 is \t0.486\t;\t0.493\n",
            "Trial #2 is \t0.516\t;\t0.503\n",
            "Trial #3 is \t0.527\t;\t0.51\n",
            "Trial #4 is \t0.488\t;\t0.494\n",
            "Trial #5 is \t0.505\t;\t0.504\n",
            "Trial #6 is \t0.491\t;\t0.496\n",
            "Trial #7 is \t0.516\t;\t0.524\n",
            "Trial #8 is \t0.487\t;\t0.505\n",
            "Trial #9 is \t0.472\t;\t0.513\n",
            "Trial #10 is \t0.519\t;\t0.479\n",
            "Trial #11 is \t0.5\t;\t0.506\n",
            "Trial #12 is \t0.502\t;\t0.508\n",
            "Trial #13 is \t0.527\t;\t0.527\n",
            "Trial #14 is \t0.482\t;\t0.481\n",
            "Trial #15 is \t0.502\t;\t0.515\n",
            "Trial #16 is \t0.513\t;\t0.502\n",
            "Trial #17 is \t0.497\t;\t0.514\n",
            "Trial #18 is \t0.481\t;\t0.486\n",
            "Trial #19 is \t0.488\t;\t0.505\n",
            "Trial #20 is \t0.494\t;\t0.486\n"
          ]
        }
      ],
      "source": [
        "A = [[0, 1, 1], [1, 0, 0], [0, 1, 1]]\n",
        "B = [[1, 0, 1], [1, 0, 0], [0, 0, 1]]\n",
        "C = [[1, 0, 1], [1, 0, 1], [1, 0, 1]]\n",
        "D = [[0, 0, 1], [0, 0, 0], [0, 1, 0]]\n",
        "\n",
        "num_runs = 1000\n",
        "trials = 20\n",
        "\n",
        "for i in range(trials):\n",
        "  count_correct = 0\n",
        "  count_incorrect = 0\n",
        "  for _ in range(num_runs):\n",
        "    if basic_frievald(A,B,C) == \"Yes\":\n",
        "      count_correct += 1\n",
        "    if basic_frievald(A,B,D) == \"Yes\":\n",
        "      count_incorrect += 1\n",
        "  print(f\"Trial #{i+1} is \\t{count_correct/num_runs}\\t;\\t{count_incorrect/num_runs}\")"
      ]
    }
  ]
}