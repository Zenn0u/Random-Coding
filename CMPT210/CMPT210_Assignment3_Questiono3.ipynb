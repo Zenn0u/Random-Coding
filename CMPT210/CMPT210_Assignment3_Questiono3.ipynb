{
  "nbformat": 4,
  "nbformat_minor": 0,
  "metadata": {
    "colab": {
      "name": "CMPT210_Assignment3_Questiono3.ipynb",
      "provenance": [],
      "collapsed_sections": []
    },
    "kernelspec": {
      "name": "python3",
      "display_name": "Python 3"
    },
    "language_info": {
      "name": "python"
    }
  },
  "cells": [
    {
      "cell_type": "markdown",
      "source": [
        "Libraries and helpful functions"
      ],
      "metadata": {
        "id": "cV6M7B2IU-5f"
      }
    },
    {
      "cell_type": "code",
      "source": [
        "import random\n",
        "from itertools import chain, combinations\n",
        "\n",
        "# https://stackoverflow.com/questions/1482308/how-to-get-all-subsets-of-a-set-powerset\n",
        "def powerset(iterable):\n",
        "    s = list(iterable)\n",
        "    return chain.from_iterable(combinations(s, r) for r in range(len(s)+1))"
      ],
      "metadata": {
        "id": "nCzzKeEbK_hE"
      },
      "execution_count": null,
      "outputs": []
    },
    {
      "cell_type": "markdown",
      "source": [
        "# Max Cut"
      ],
      "metadata": {
        "id": "TOP8GG8MMVhb"
      }
    },
    {
      "cell_type": "code",
      "execution_count": null,
      "metadata": {
        "id": "1ttoNSUVAkEo"
      },
      "outputs": [],
      "source": [
        "def MaxCut(V, E):\n",
        "  U = list(powerset(V))\n",
        "  max_list = ()\n",
        "  max = 0\n",
        "\n",
        "  for i in U:\n",
        "    current = 0\n",
        "    for u in i:\n",
        "      for v in V:\n",
        "        if u in i and v not in i and (u, v) in E:\n",
        "          current += 1\n",
        "    if current > max:\n",
        "      max_list = i\n",
        "      max = current\n",
        "  \n",
        "  return max_list, max"
      ]
    },
    {
      "cell_type": "markdown",
      "source": [
        "# Erdos' Randomized Algorithm"
      ],
      "metadata": {
        "id": "LDAoJYaeCmyu"
      }
    },
    {
      "cell_type": "code",
      "source": [
        "def QuickSelect(A, k):\n",
        "  if len(A) == 1:\n",
        "    return A[0]\n",
        "\n",
        "  p = random.choice(A)\n",
        "  \n",
        "  left = list()\n",
        "  right = list()\n",
        "\n",
        "  for i in A:\n",
        "    if i < p:\n",
        "      left.append(i)\n",
        "      left.sort()\n",
        "    elif i > p:\n",
        "      right.append(i)\n",
        "      right.sort()\n",
        "\n",
        "  r = len(left) + 1\n",
        "\n",
        "  if k == r:\n",
        "    return p\n",
        "  if k < r:\n",
        "    QuickSelect(left, k)\n",
        "  else:\n",
        "    QuickSelect(right, k-r)"
      ],
      "metadata": {
        "id": "RVW4JASQCpn9"
      },
      "execution_count": null,
      "outputs": []
    },
    {
      "cell_type": "markdown",
      "source": [
        "# The Average Expected Size"
      ],
      "metadata": {
        "id": "x-ZXz3QhI_K0"
      }
    },
    {
      "cell_type": "code",
      "source": [
        "V = (0, 1, 2, 3, 4)\n",
        "E = ((0, 1), (0, 4), (1,0), (1, 2), (1, 4), (2, 1), (2, 3), (3, 2), (3, 4), (4, 0), (4, 1), (4, 3))\n",
        "total = 0\n",
        "maxl, max = MaxCut(V,E)\n",
        "print(f\"Result I get when I run the MaxCut function on the given graph: {maxl} is the vertices and {max} is the cuts\")\n",
        "\n",
        "total = 0\n",
        "for i in range(1000):\n",
        "  try: total += QuickSelect(V, 2)\n",
        "  except:\n",
        "      total += 0\n",
        "\n",
        "avg = total / 1000\n",
        "print(f\"{avg/max}\")"
      ],
      "metadata": {
        "colab": {
          "base_uri": "https://localhost:8080/"
        },
        "id": "WH64A8kuJIPx",
        "outputId": "1d8d8ab3-81d0-4a6e-d621-666986a1aa8d"
      },
      "execution_count": null,
      "outputs": [
        {
          "output_type": "stream",
          "name": "stdout",
          "text": [
            "Result I get when I run the MaxCut function on the given graph: (1, 3) is the vertices and 5 is the cuts\n",
            "0.036199999999999996\n"
          ]
        }
      ]
    }
  ]
}