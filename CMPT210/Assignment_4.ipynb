{
  "nbformat": 4,
  "nbformat_minor": 0,
  "metadata": {
    "colab": {
      "name": "Assignment_4.ipynb",
      "provenance": [],
      "collapsed_sections": [
        "MRohfVNkO7Sn",
        "thRpPaWAOlDu",
        "XP7uTH1SREjU",
        "_8ljrlBqTcB5",
        "PtV0a_vcaPLK"
      ]
    },
    "kernelspec": {
      "name": "python3",
      "display_name": "Python 3"
    },
    "language_info": {
      "name": "python"
    }
  },
  "cells": [
    {
      "cell_type": "markdown",
      "source": [
        "## Libraries and Useful Functions"
      ],
      "metadata": {
        "id": "MRohfVNkO7Sn"
      }
    },
    {
      "cell_type": "code",
      "source": [
        "import random\n",
        "import time\n",
        "import statistics"
      ],
      "metadata": {
        "id": "V8WK7Aa4O66m"
      },
      "execution_count": null,
      "outputs": []
    },
    {
      "cell_type": "markdown",
      "source": [
        "## Part(a) - QuickSelect\n",
        "\n",
        "\n"
      ],
      "metadata": {
        "id": "thRpPaWAOlDu"
      }
    },
    {
      "cell_type": "code",
      "execution_count": null,
      "metadata": {
        "id": "dxoG6WRlOV3U"
      },
      "outputs": [],
      "source": [
        "def QuickSelect(A, k):\n",
        "  if len(A) == 1:\n",
        "    return A[0]\n",
        "\n",
        "  p = random.choice(A)\n",
        "  left = list()\n",
        "  right = list()\n",
        "\n",
        "  for idx, num in enumerate(A):\n",
        "    if num < p:\n",
        "      left.append(num)\n",
        "    elif num > p:\n",
        "      right.append(num)\n",
        "  \n",
        "  r = len(left) + 1\n",
        "\n",
        "  if k == r:\n",
        "    return p\n",
        "\n",
        "  if k < r:\n",
        "    QuickSelect(left, k)\n",
        "  else:\n",
        "    QuickSelect(right, k-r)"
      ]
    },
    {
      "cell_type": "markdown",
      "source": [
        "## Part(b) - Algorithm to Sort"
      ],
      "metadata": {
        "id": "XP7uTH1SREjU"
      }
    },
    {
      "cell_type": "code",
      "source": [
        "def mySort(A):\n",
        "  new_list = list()\n",
        "  n = len(A)\n",
        "\n",
        "  k = 1\n",
        "  while k <= n:\n",
        "    a = QuickSelect(A, k) \n",
        "    if a != None:\n",
        "      new_list.append(a)\n",
        "      k += 1\n",
        "\n",
        "  return new_list"
      ],
      "metadata": {
        "id": "ugNA6qDdRmZa"
      },
      "execution_count": null,
      "outputs": []
    },
    {
      "cell_type": "markdown",
      "source": [
        "## Part(c) - Randomized QuickSort"
      ],
      "metadata": {
        "id": "_8ljrlBqTcB5"
      }
    },
    {
      "cell_type": "code",
      "source": [
        "def QuickSort(A):\n",
        "  if len(A) <= 1:\n",
        "    return A\n",
        "  \n",
        "  p = random.choice(A)\n",
        "  left = list()\n",
        "  right = list()\n",
        "\n",
        "  for idx, num in enumerate(A):\n",
        "    if num < p:\n",
        "      left.append(num)\n",
        "    elif num > p:\n",
        "      right.append(num)\n",
        "\n",
        "  return QuickSort(left) + [p] + QuickSort(right)"
      ],
      "metadata": {
        "id": "bgGmGlUMTbp3"
      },
      "execution_count": null,
      "outputs": []
    },
    {
      "cell_type": "markdown",
      "source": [
        "## Part(i) - Runtime of Functions for the parts (a), (b), (c)"
      ],
      "metadata": {
        "id": "PtV0a_vcaPLK"
      }
    },
    {
      "cell_type": "code",
      "source": [
        "A = [7, 3, 99, 4, 0, 34, 84, 9, 1, 456]\n",
        "epoch = 100\n",
        "total_QuickSelect = 0\n",
        "total_mySort = 0\n",
        "total_QuickSort = 0\n",
        "\n",
        "for i in range(epoch):\n",
        "\n",
        "  k = random.randint(1,len(A))\n",
        "  qse_s = time.process_time()\n",
        "  a = QuickSelect(A, k)\n",
        "  qse_e = time.process_time()\n",
        "  total_QuickSelect += qse_e - qse_s\n",
        "\n",
        "  qse_s = time.process_time()\n",
        "  b = mySort(A)\n",
        "  qse_e = time.process_time()\n",
        "  total_mySort += qse_e - qse_s\n",
        "\n",
        "  qse_s = time.process_time()\n",
        "  c = QuickSort(A)\n",
        "  qse_e = time.process_time()\n",
        "  total_QuickSort += qse_e - qse_s\n",
        "\n",
        "print(f\"Average Runtime in Seconds of QuickSelect: {(total_QuickSelect/epoch):0.3g},\\\n",
        "  mySort: {(total_mySort/epoch):0.3g}, QuickSort: {(total_QuickSort/epoch):0.3g}\")"
      ],
      "metadata": {
        "colab": {
          "base_uri": "https://localhost:8080/"
        },
        "id": "x6pcwuaxPcSD",
        "outputId": "6723c166-0f2c-43a0-9fc8-8b2ec82aaa8d"
      },
      "execution_count": null,
      "outputs": [
        {
          "output_type": "stream",
          "name": "stdout",
          "text": [
            "Average Runtime in Seconds of QuickSelect: 9.94e-06,  mySort: 0.000907, QuickSort: 2.03e-05\n"
          ]
        }
      ]
    },
    {
      "cell_type": "markdown",
      "source": [
        "## Part(ii) - Standard Deviation in Runtime"
      ],
      "metadata": {
        "id": "14rv6re7abID"
      }
    },
    {
      "cell_type": "code",
      "source": [
        "A = (7, 3, 99, 4, 0, 34, 84, 9, 1, 456)\n",
        "epoch = 100\n",
        "total_QuickSelect = list()\n",
        "total_mySort = list()\n",
        "total_QuickSort = list()\n",
        "\n",
        "for i in range(epoch):\n",
        "\n",
        "  k = random.randint(1,len(A))\n",
        "  qse_s = time.process_time()\n",
        "  a = QuickSelect(A, k)\n",
        "  qse_e = time.process_time()\n",
        "  total_QuickSelect.append(qse_e - qse_s)\n",
        "\n",
        "  qse_s = time.process_time()\n",
        "  b = mySort(A)\n",
        "  qse_e = time.process_time()\n",
        "  total_mySort.append(qse_e - qse_s)\n",
        "\n",
        "  qse_s = time.process_time()\n",
        "  c = QuickSort(A)\n",
        "  qse_e = time.process_time()\n",
        "  total_QuickSort.append(qse_e - qse_s)\n",
        "\n",
        "mean = statistics.mean(total_QuickSelect)\n",
        "std = statistics.stdev(total_QuickSelect)\n",
        "print(f\"QuickSelect std: {std:0.3g}, mean: {mean:0.3g}, \\\n",
        "mean+std: {(mean+std):0.3g}, mean - std: {(mean-std):0.3g}\")\n",
        "\n",
        "mean = statistics.mean(total_mySort)\n",
        "std= statistics.stdev(total_mySort)\n",
        "print(f\"mySort std: {std:0.3g}, mean: {mean:0.3g}, \\\n",
        "mean+std: {(mean+std):0.3g}, mean - std: {(mean-std):0.3g}\")\n",
        "\n",
        "mean = statistics.mean(total_QuickSort)\n",
        "std= statistics.stdev(total_QuickSort)\n",
        "print(f\"QuickSort std: {std:0.3g}, mean: {mean:0.3g}, \\\n",
        "mean+std: {(mean+std):0.3g}, mean - std: {(mean-std):0.3g}\")"
      ],
      "metadata": {
        "colab": {
          "base_uri": "https://localhost:8080/"
        },
        "id": "0GCl7ntnamBD",
        "outputId": "c23124a2-fe81-4833-9efb-9fce2e607e7a"
      },
      "execution_count": null,
      "outputs": [
        {
          "output_type": "stream",
          "name": "stdout",
          "text": [
            "QuickSelect std: 4.31e-06, mean: 9.18e-06, mean+std: 1.35e-05, mean - std: 4.86e-06\n",
            "mySort std: 0.00025, mean: 0.000788, mean+std: 0.00104, mean - std: 0.000538\n",
            "QuickSort std: 3.41e-06, mean: 1.9e-05, mean+std: 2.24e-05, mean - std: 1.56e-05\n"
          ]
        }
      ]
    },
    {
      "cell_type": "markdown",
      "source": [
        "## First Point - Different Size arrays"
      ],
      "metadata": {
        "id": "EaIe7RtScVvt"
      }
    },
    {
      "cell_type": "code",
      "source": [
        "sizes = [5, 20, 50, 100, 500, 1000]\n",
        "epoch = 50\n",
        "\n",
        "total_mySort = list()\n",
        "total_QuickSort = list()\n",
        "\n",
        "for j in sizes:\n",
        "  A = random.sample(range(0,1000), j)\n",
        "\n",
        "  for i in range(epoch):\n",
        "    qse_s = time.process_time()\n",
        "    b = mySort(A)\n",
        "    qse_e = time.process_time()\n",
        "    total_mySort.append(qse_e - qse_s)\n",
        "\n",
        "    qse_s = time.process_time()\n",
        "    c = QuickSort(A)\n",
        "    qse_e = time.process_time()\n",
        "    total_QuickSort.append(qse_e - qse_s)\n",
        "\n",
        "  mean = statistics.mean(total_mySort)\n",
        "  std= statistics.stdev(total_mySort)\n",
        "  print(f\"Array Size: {j}, Average mySort runtime: {mean:0.3g}\")\n",
        "\n",
        "  mean = statistics.mean(total_QuickSort)\n",
        "  std= statistics.stdev(total_QuickSort)\n",
        "  print(f\"Array Size: {j}, Average QuickSort runtime: {mean:0.3g}\")\n",
        "\n",
        "  total_mySort = list()\n",
        "  total_QuickSort = list()\n"
      ],
      "metadata": {
        "colab": {
          "base_uri": "https://localhost:8080/"
        },
        "id": "7RPFHU8fcdkW",
        "outputId": "426d0653-e09f-4bc3-e0d3-6ecaa1a1203d"
      },
      "execution_count": null,
      "outputs": [
        {
          "output_type": "stream",
          "name": "stdout",
          "text": [
            "Array Size: 5, Average mySort runtime: 0.000132\n",
            "Array Size: 5, Average QuickSort runtime: 8.01e-06\n",
            "Array Size: 20, Average mySort runtime: 0.00588\n",
            "Array Size: 20, Average QuickSort runtime: 4.34e-05\n",
            "Array Size: 50, Average mySort runtime: 0.0736\n",
            "Array Size: 50, Average QuickSort runtime: 0.000122\n",
            "Array Size: 100, Average mySort runtime: 0.521\n",
            "Array Size: 100, Average QuickSort runtime: 0.000254\n"
          ]
        }
      ]
    }
  ]
}